{
 "cells": [
  {
   "cell_type": "markdown",
   "metadata": {},
   "source": [
    "# <h1><center>Portfolio Selection Model</center></h1>\n",
    "#### <h1><center>Model Creation</center></h1>"
   ]
  },
  {
   "cell_type": "code",
   "execution_count": 25,
   "metadata": {},
   "outputs": [],
   "source": [
    "#import packages and intialize gurobi model file\n",
    "import numpy as np\n",
    "import mysql.connector\n",
    "np.set_printoptions(suppress=True)\n",
    "from gurobipy import *\n",
    "import pandas as pd\n",
    "m = Model('test')"
   ]
  },
  {
   "cell_type": "markdown",
   "metadata": {},
   "source": [
    "# <h1><center>MySQL Connection</center></h1>\n"
   ]
  },
  {
   "cell_type": "code",
   "execution_count": 26,
   "metadata": {},
   "outputs": [],
   "source": [
    "db = mysql.connector.connect(user = 'root',\n",
    "                            password = 'root',\n",
    "                            host = 'localhost',\n",
    "                            database = 'nasdaq',\n",
    "                            auth_plugin = 'mysql_native_password')"
   ]
  },
  {
   "cell_type": "code",
   "execution_count": 27,
   "metadata": {},
   "outputs": [],
   "source": [
    "cur = db.cursor()\n",
    "cur.execute('select stock1,stock2,covarience from cov')\n",
    "q = cur.fetchall()\n",
    "cur.execute('select stock,meanReturn from r')\n",
    "r = cur.fetchall()"
   ]
  },
  {
   "cell_type": "code",
   "execution_count": 28,
   "metadata": {},
   "outputs": [],
   "source": [
    "Q = {}\n",
    "for i in range(len(q)):\n",
    "    Q[(q[i][0],q[i][1])] = q[i][2]\n",
    "    \n",
    "R = {}\n",
    "for i in range(len(r)):\n",
    "    R[(r[i][0])] = r[i][1]\n",
    "    \n",
    "numStocks = len(R)"
   ]
  },
  {
   "cell_type": "markdown",
   "metadata": {},
   "source": [
    "# <h1><center>Decision Variables</center></h1>\n"
   ]
  },
  {
   "cell_type": "code",
   "execution_count": 29,
   "metadata": {},
   "outputs": [],
   "source": [
    "X = []\n",
    "XNames = list(R.keys())\n",
    "for i in range(len(XNames)):\n",
    "    X.append(m.addVar(vtype = GRB.CONTINUOUS, lb = 0.0, name = XNames[i]))\n",
    "m.update()"
   ]
  },
  {
   "cell_type": "markdown",
   "metadata": {},
   "source": [
    "# <h1><center>Model Constraints</center></h1>\n"
   ]
  },
  {
   "cell_type": "code",
   "execution_count": 30,
   "metadata": {},
   "outputs": [],
   "source": [
    "m.remove(m.getQConstrs())\n",
    "m.addQConstr(quicksum(X[i] * Q[(XNames[i],XNames[j])] * X[j] for i in range(numStocks) for j in range(numStocks)), GRB.LESS_EQUAL, .65, \"QCCC\")\n",
    "m.addConstr(quicksum( X[i] for i in range(len(X)) ), GRB.EQUAL,  1.00)\n",
    "m.update()"
   ]
  },
  {
   "cell_type": "markdown",
   "metadata": {},
   "source": [
    "# <h1><center>Objective Function</center></h1>\n"
   ]
  },
  {
   "cell_type": "code",
   "execution_count": 31,
   "metadata": {},
   "outputs": [],
   "source": [
    "m.setObjective(quicksum( X[i]*R[XNames[i]] for i in range( len(R))),\n",
    "               GRB.MAXIMIZE)\n",
    "m.update()"
   ]
  },
  {
   "cell_type": "markdown",
   "metadata": {},
   "source": [
    "# <h1><center>Results and Commands to Populate MySQL</center></h1>\n"
   ]
  },
  {
   "cell_type": "code",
   "execution_count": 32,
   "metadata": {},
   "outputs": [
    {
     "name": "stdout",
     "output_type": "stream",
     "text": [
      "Optimize a model with 1 rows, 1158 columns and 1158 nonzeros\n",
      "Model has 1 quadratic constraint\n",
      "Coefficient statistics:\n",
      "  Matrix range     [1e+00, 1e+00]\n",
      "  QMatrix range    [8e-09, 4e-01]\n",
      "  Objective range  [8e-07, 8e-02]\n",
      "  Bounds range     [0e+00, 0e+00]\n",
      "  RHS range        [1e+00, 1e+00]\n",
      "  QRHS range       [7e-01, 7e-01]\n",
      "Presolve time: 0.07s\n",
      "Presolved: 121 rows, 1278 columns, 132059 nonzeros\n",
      "Presolved model has 1 second-order cone constraint\n",
      "Ordering time: 0.00s\n",
      "\n",
      "Barrier statistics:\n",
      " AA' NZ     : 7.259e+03\n",
      " Factor NZ  : 7.381e+03 (roughly 1 MByte of memory)\n",
      " Factor Ops : 5.979e+05 (less than 1 second per iteration)\n",
      " Threads    : 8\n",
      "\n",
      "                  Objective                Residual\n",
      "Iter       Primal          Dual         Primal    Dual     Compl     Time\n",
      "   0   1.19313589e+00 -0.00000000e+00  1.16e+02 1.75e-01  1.51e-02     0s\n",
      "   1   1.12953771e-02  1.67890347e-01  1.27e-04 5.55e-03  1.30e-04     0s\n",
      "   2   1.41876602e-02  8.36660734e-02  1.40e-10 2.37e-03  5.77e-05     0s\n",
      "   3   4.67095044e-02  8.00178728e-02  5.63e-16 4.49e-05  2.61e-05     0s\n",
      "   4   7.91540945e-02  7.98594492e-02  1.84e-15 4.94e-11  5.51e-07     0s\n",
      "   5   7.93555176e-02  7.93563072e-02  1.57e-15 5.51e-14  6.17e-10     0s\n",
      "\n",
      "Barrier solved model in 5 iterations and 0.14 seconds\n",
      "Optimal objective 7.93555176e-02\n",
      "\n"
     ]
    }
   ],
   "source": [
    "m.optimize()"
   ]
  },
  {
   "cell_type": "code",
   "execution_count": 33,
   "metadata": {},
   "outputs": [
    {
     "data": {
      "text/plain": [
       "[[0.05465889541224628, 0.025],\n",
       " [0.05922762903660833, 0.05],\n",
       " [0.06209742571906666, 0.075],\n",
       " [0.06430495863158901, 0.1],\n",
       " [0.06616781820623249, 0.125],\n",
       " [0.0678097878871155, 0.15],\n",
       " [0.06929453166585595, 0.175],\n",
       " [0.0706254271621665, 0.2],\n",
       " [0.07180725802957359, 0.225],\n",
       " [0.072881519073433, 0.25],\n",
       " [0.07387310550480855, 0.275],\n",
       " [0.07479850491580253, 0.3],\n",
       " [0.07566937361561055, 0.325],\n",
       " [0.07649451786751857, 0.35],\n",
       " [0.07727945804989138, 0.375],\n",
       " [0.0780238111557997, 0.4],\n",
       " [0.0787312693173416, 0.425],\n",
       " [0.07935573532428951, 0.45],\n",
       " [0.07935572734592736, 0.475],\n",
       " [0.07935573832613767, 0.5],\n",
       " [0.07935573985263865, 0.525],\n",
       " [0.07935574031942137, 0.55],\n",
       " [0.07935574069028341, 0.575],\n",
       " [0.07935551571360544, 0.6],\n",
       " [0.07935549704986455, 0.625],\n",
       " [0.07935551758960067, 0.65],\n",
       " [0.07935558487326341, 0.675],\n",
       " [0.07935574067513297, 0.7],\n",
       " [0.079355740678662, 0.725],\n",
       " [0.07935574062392786, 0.75],\n",
       " [0.07935574051979102, 0.775],\n",
       " [0.07935574040959957, 0.8],\n",
       " [0.0793557380580757, 0.825],\n",
       " [0.07935573882171132, 0.85],\n",
       " [0.07935573906163888, 0.875],\n",
       " [0.07935573909897561, 0.9],\n",
       " [0.07935574032550863, 0.925],\n",
       " [0.07935573778166309, 0.95],\n",
       " [0.07935573854455967, 0.975]]"
      ]
     },
     "execution_count": 33,
     "metadata": {},
     "output_type": "execute_result"
    }
   ],
   "source": [
    "m.setParam('OutputFlag', False) #Hide Gurobi output\n",
    "portfolio = [] #[expReturn, risk] list\n",
    "\n",
    "#For loop to calculate risk and returns \n",
    "max_risk = [i/1000 for i in range(0,1000,25)]\n",
    "for k in max_risk:\n",
    "    m.remove(m.getQConstrs())\n",
    "    m.update()\n",
    "\n",
    "    m.addQConstr(quicksum(X[i] * Q[(XNames[i],XNames[j])] * X[j] for i in range(numStocks) for j in range(numStocks)), GRB.LESS_EQUAL, k)\n",
    "    m.update()\n",
    "\n",
    "    m.optimize()\n",
    "    if m.status == 2:\n",
    "        portfolio.append([m.objVal, k])\n",
    "\n",
    "portfolio"
   ]
  },
  {
   "cell_type": "code",
   "execution_count": 36,
   "metadata": {},
   "outputs": [
    {
     "ename": "ProgrammingError",
     "evalue": "Cursor is not connected",
     "output_type": "error",
     "traceback": [
      "\u001b[1;31m---------------------------------------------------------------------------\u001b[0m",
      "\u001b[1;31mProgrammingError\u001b[0m                          Traceback (most recent call last)",
      "\u001b[1;32m<ipython-input-36-fbd9763a1bc8>\u001b[0m in \u001b[0;36m<module>\u001b[1;34m\u001b[0m\n\u001b[0;32m      1\u001b[0m \u001b[1;31m# Insert reutrn information\u001b[0m\u001b[1;33m\u001b[0m\u001b[1;33m\u001b[0m\u001b[1;33m\u001b[0m\u001b[0m\n\u001b[0;32m      2\u001b[0m \u001b[1;32mfor\u001b[0m \u001b[0mi\u001b[0m \u001b[1;32min\u001b[0m \u001b[0mrange\u001b[0m\u001b[1;33m(\u001b[0m\u001b[0mlen\u001b[0m\u001b[1;33m(\u001b[0m\u001b[0mportfolio\u001b[0m\u001b[1;33m)\u001b[0m\u001b[1;33m)\u001b[0m\u001b[1;33m:\u001b[0m\u001b[1;33m\u001b[0m\u001b[1;33m\u001b[0m\u001b[0m\n\u001b[1;32m----> 3\u001b[1;33m     \u001b[0mcur\u001b[0m\u001b[1;33m.\u001b[0m\u001b[0mexecute\u001b[0m\u001b[1;33m(\u001b[0m\u001b[1;34m\"INSERT INTO portfolio(expReturn, expRisk) VALUES ({:f},{:f})\"\u001b[0m\u001b[1;33m.\u001b[0m\u001b[0mformat\u001b[0m\u001b[1;33m(\u001b[0m\u001b[0mportfolio\u001b[0m\u001b[1;33m[\u001b[0m\u001b[0mi\u001b[0m\u001b[1;33m]\u001b[0m\u001b[1;33m[\u001b[0m\u001b[1;36m0\u001b[0m\u001b[1;33m]\u001b[0m\u001b[1;33m,\u001b[0m \u001b[0mportfolio\u001b[0m\u001b[1;33m[\u001b[0m\u001b[0mi\u001b[0m\u001b[1;33m]\u001b[0m\u001b[1;33m[\u001b[0m\u001b[1;36m1\u001b[0m\u001b[1;33m]\u001b[0m\u001b[1;33m)\u001b[0m\u001b[1;33m)\u001b[0m\u001b[1;33m\u001b[0m\u001b[1;33m\u001b[0m\u001b[0m\n\u001b[0m\u001b[0;32m      4\u001b[0m \u001b[1;33m\u001b[0m\u001b[0m\n\u001b[0;32m      5\u001b[0m \u001b[1;31m# Make sure data is committed to the database\u001b[0m\u001b[1;33m\u001b[0m\u001b[1;33m\u001b[0m\u001b[1;33m\u001b[0m\u001b[0m\n",
      "\u001b[1;32m~\\anaconda3\\lib\\site-packages\\mysql\\connector\\cursor.py\u001b[0m in \u001b[0;36mexecute\u001b[1;34m(self, operation, params, multi)\u001b[0m\n\u001b[0;32m    535\u001b[0m \u001b[1;33m\u001b[0m\u001b[0m\n\u001b[0;32m    536\u001b[0m         \u001b[1;32mif\u001b[0m \u001b[1;32mnot\u001b[0m \u001b[0mself\u001b[0m\u001b[1;33m.\u001b[0m\u001b[0m_connection\u001b[0m\u001b[1;33m:\u001b[0m\u001b[1;33m\u001b[0m\u001b[1;33m\u001b[0m\u001b[0m\n\u001b[1;32m--> 537\u001b[1;33m             \u001b[1;32mraise\u001b[0m \u001b[0merrors\u001b[0m\u001b[1;33m.\u001b[0m\u001b[0mProgrammingError\u001b[0m\u001b[1;33m(\u001b[0m\u001b[1;34m\"Cursor is not connected\"\u001b[0m\u001b[1;33m)\u001b[0m\u001b[1;33m\u001b[0m\u001b[1;33m\u001b[0m\u001b[0m\n\u001b[0m\u001b[0;32m    538\u001b[0m \u001b[1;33m\u001b[0m\u001b[0m\n\u001b[0;32m    539\u001b[0m         \u001b[0mself\u001b[0m\u001b[1;33m.\u001b[0m\u001b[0m_connection\u001b[0m\u001b[1;33m.\u001b[0m\u001b[0mhandle_unread_result\u001b[0m\u001b[1;33m(\u001b[0m\u001b[1;33m)\u001b[0m\u001b[1;33m\u001b[0m\u001b[1;33m\u001b[0m\u001b[0m\n",
      "\u001b[1;31mProgrammingError\u001b[0m: Cursor is not connected"
     ]
    }
   ],
   "source": [
    "# Insert reutrn information\n",
    "for i in range(len(portfolio)):    \n",
    "    cur.execute(\"INSERT INTO portfolio(expReturn, expRisk) VALUES ({:f},{:f})\".format(portfolio[i][0], portfolio[i][1]))\n",
    "\n",
    "# Make sure data is committed to the database\n",
    "db.commit()\n",
    "\n",
    "cur.close()\n",
    "db.close()"
   ]
  },
  {
   "cell_type": "code",
   "execution_count": null,
   "metadata": {},
   "outputs": [],
   "source": []
  }
 ],
 "metadata": {
  "kernelspec": {
   "display_name": "Python 3",
   "language": "python",
   "name": "python3"
  },
  "language_info": {
   "codemirror_mode": {
    "name": "ipython",
    "version": 3
   },
   "file_extension": ".py",
   "mimetype": "text/x-python",
   "name": "python",
   "nbconvert_exporter": "python",
   "pygments_lexer": "ipython3",
   "version": "3.7.7"
  }
 },
 "nbformat": 4,
 "nbformat_minor": 4
}
